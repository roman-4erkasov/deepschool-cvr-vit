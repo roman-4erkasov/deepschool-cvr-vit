{
 "cells": [
  {
   "cell_type": "code",
   "execution_count": 1,
   "id": "41608e9c-5806-44a1-a421-85971d2e8eb7",
   "metadata": {},
   "outputs": [],
   "source": [
    "import torch as th\n",
    "import torchmetrics as tm"
   ]
  },
  {
   "cell_type": "code",
   "execution_count": 50,
   "id": "9f2f89d9-b260-43fe-b46f-717df32cd7ef",
   "metadata": {},
   "outputs": [
    {
     "data": {
      "text/plain": [
       "tensor(0.4000)"
      ]
     },
     "execution_count": 50,
     "metadata": {},
     "output_type": "execute_result"
    }
   ],
   "source": [
    "tm.functional.classification.multiclass_auroc(\n",
    "    th.FloatTensor([[0, 0.8, 0.2,0,0],[0, 0, 0.9,0,0]]),\n",
    "    th.LongTensor([1, 2,]),\n",
    "    num_classes=5,\n",
    "    ignore_index=-1,\n",
    "    # average=\"micro\"\n",
    ")"
   ]
  },
  {
   "cell_type": "code",
   "execution_count": 8,
   "id": "9e8c800f-2c01-48f7-8fec-fb80503d48dd",
   "metadata": {
    "collapsed": true,
    "jupyter": {
     "outputs_hidden": true
    }
   },
   "outputs": [
    {
     "data": {
      "text/plain": [
       "\u001b[0;31mSignature:\u001b[0m\n",
       "\u001b[0mtm\u001b[0m\u001b[0;34m.\u001b[0m\u001b[0mfunctional\u001b[0m\u001b[0;34m.\u001b[0m\u001b[0mclassification\u001b[0m\u001b[0;34m.\u001b[0m\u001b[0mmulticlass_auroc\u001b[0m\u001b[0;34m(\u001b[0m\u001b[0;34m\u001b[0m\n",
       "\u001b[0;34m\u001b[0m    \u001b[0mpreds\u001b[0m\u001b[0;34m:\u001b[0m \u001b[0mtorch\u001b[0m\u001b[0;34m.\u001b[0m\u001b[0mTensor\u001b[0m\u001b[0;34m,\u001b[0m\u001b[0;34m\u001b[0m\n",
       "\u001b[0;34m\u001b[0m    \u001b[0mtarget\u001b[0m\u001b[0;34m:\u001b[0m \u001b[0mtorch\u001b[0m\u001b[0;34m.\u001b[0m\u001b[0mTensor\u001b[0m\u001b[0;34m,\u001b[0m\u001b[0;34m\u001b[0m\n",
       "\u001b[0;34m\u001b[0m    \u001b[0mnum_classes\u001b[0m\u001b[0;34m:\u001b[0m \u001b[0mint\u001b[0m\u001b[0;34m,\u001b[0m\u001b[0;34m\u001b[0m\n",
       "\u001b[0;34m\u001b[0m    \u001b[0maverage\u001b[0m\u001b[0;34m:\u001b[0m \u001b[0mOptional\u001b[0m\u001b[0;34m[\u001b[0m\u001b[0mLiteral\u001b[0m\u001b[0;34m[\u001b[0m\u001b[0;34m'macro'\u001b[0m\u001b[0;34m,\u001b[0m \u001b[0;34m'weighted'\u001b[0m\u001b[0;34m,\u001b[0m \u001b[0;34m'none'\u001b[0m\u001b[0;34m]\u001b[0m\u001b[0;34m]\u001b[0m \u001b[0;34m=\u001b[0m \u001b[0;34m'macro'\u001b[0m\u001b[0;34m,\u001b[0m\u001b[0;34m\u001b[0m\n",
       "\u001b[0;34m\u001b[0m    \u001b[0mthresholds\u001b[0m\u001b[0;34m:\u001b[0m \u001b[0mUnion\u001b[0m\u001b[0;34m[\u001b[0m\u001b[0mint\u001b[0m\u001b[0;34m,\u001b[0m \u001b[0mList\u001b[0m\u001b[0;34m[\u001b[0m\u001b[0mfloat\u001b[0m\u001b[0;34m]\u001b[0m\u001b[0;34m,\u001b[0m \u001b[0mtorch\u001b[0m\u001b[0;34m.\u001b[0m\u001b[0mTensor\u001b[0m\u001b[0;34m,\u001b[0m \u001b[0mNoneType\u001b[0m\u001b[0;34m]\u001b[0m \u001b[0;34m=\u001b[0m \u001b[0;32mNone\u001b[0m\u001b[0;34m,\u001b[0m\u001b[0;34m\u001b[0m\n",
       "\u001b[0;34m\u001b[0m    \u001b[0mignore_index\u001b[0m\u001b[0;34m:\u001b[0m \u001b[0mOptional\u001b[0m\u001b[0;34m[\u001b[0m\u001b[0mint\u001b[0m\u001b[0;34m]\u001b[0m \u001b[0;34m=\u001b[0m \u001b[0;32mNone\u001b[0m\u001b[0;34m,\u001b[0m\u001b[0;34m\u001b[0m\n",
       "\u001b[0;34m\u001b[0m    \u001b[0mvalidate_args\u001b[0m\u001b[0;34m:\u001b[0m \u001b[0mbool\u001b[0m \u001b[0;34m=\u001b[0m \u001b[0;32mTrue\u001b[0m\u001b[0;34m,\u001b[0m\u001b[0;34m\u001b[0m\n",
       "\u001b[0;34m\u001b[0m\u001b[0;34m)\u001b[0m \u001b[0;34m->\u001b[0m \u001b[0mtorch\u001b[0m\u001b[0;34m.\u001b[0m\u001b[0mTensor\u001b[0m\u001b[0;34m\u001b[0m\u001b[0;34m\u001b[0m\u001b[0m\n",
       "\u001b[0;31mDocstring:\u001b[0m\n",
       "Compute Area Under the Receiver Operating Characteristic Curve (`ROC AUC`_) for multiclass tasks.\n",
       "\n",
       "The AUROC score summarizes the ROC curve into an single number that describes the performance of a model for\n",
       "multiple thresholds at the same time. Notably, an AUROC score of 1 is a perfect score and an AUROC score of 0.5\n",
       "corresponds to random guessing.\n",
       "\n",
       "Accepts the following input tensors:\n",
       "\n",
       "- ``preds`` (float tensor): ``(N, C, ...)``. Preds should be a tensor containing probabilities or logits for each\n",
       "  observation. If preds has values outside [0,1] range we consider the input to be logits and will auto apply\n",
       "  softmax per sample.\n",
       "- ``target`` (int tensor): ``(N, ...)``. Target should be a tensor containing ground truth labels, and therefore\n",
       "  only contain values in the [0, n_classes-1] range (except if `ignore_index` is specified).\n",
       "\n",
       "Additional dimension ``...`` will be flattened into the batch dimension.\n",
       "\n",
       "The implementation both supports calculating the metric in a non-binned but accurate version and a binned version\n",
       "that is less accurate but more memory efficient. Setting the `thresholds` argument to `None` will activate the\n",
       "non-binned  version that uses memory of size :math:`\\mathcal{O}(n_{samples})` whereas setting the `thresholds`\n",
       "argument to either an integer, list or a 1d tensor will use a binned version that uses memory of\n",
       "size :math:`\\mathcal{O}(n_{thresholds} \\times n_{classes})` (constant memory).\n",
       "\n",
       "Args:\n",
       "    preds: Tensor with predictions\n",
       "    target: Tensor with true labels\n",
       "    num_classes: Integer specifing the number of classes\n",
       "    average:\n",
       "        Defines the reduction that is applied over classes. Should be one of the following:\n",
       "\n",
       "        - ``macro``: Calculate score for each class and average them\n",
       "        - ``weighted``: calculates score for each class and computes weighted average using their support\n",
       "        - ``\"none\"`` or ``None``: calculates score for each class and applies no reduction\n",
       "    thresholds:\n",
       "        Can be one of:\n",
       "\n",
       "        - If set to `None`, will use a non-binned approach where thresholds are dynamically calculated from\n",
       "          all the data. Most accurate but also most memory consuming approach.\n",
       "        - If set to an `int` (larger than 1), will use that number of thresholds linearly spaced from\n",
       "          0 to 1 as bins for the calculation.\n",
       "        - If set to an `list` of floats, will use the indicated thresholds in the list as bins for the calculation\n",
       "        - If set to an 1d `tensor` of floats, will use the indicated thresholds in the tensor as\n",
       "          bins for the calculation.\n",
       "\n",
       "    ignore_index:\n",
       "        Specifies a target value that is ignored and does not contribute to the metric calculation\n",
       "    validate_args: bool indicating if input arguments and tensors should be validated for correctness.\n",
       "        Set to ``False`` for faster computations.\n",
       "\n",
       "Returns:\n",
       "    If `average=None|\"none\"` then a 1d tensor of shape (n_classes, ) will be returned with auroc score per class.\n",
       "    If `average=\"macro\"|\"weighted\"` then a single scalar is returned.\n",
       "\n",
       "Example:\n",
       "    >>> from torchmetrics.functional.classification import multiclass_auroc\n",
       "    >>> preds = torch.tensor([[0.75, 0.05, 0.05, 0.05, 0.05],\n",
       "    ...                       [0.05, 0.75, 0.05, 0.05, 0.05],\n",
       "    ...                       [0.05, 0.05, 0.75, 0.05, 0.05],\n",
       "    ...                       [0.05, 0.05, 0.05, 0.75, 0.05]])\n",
       "    >>> target = torch.tensor([0, 1, 3, 2])\n",
       "    >>> multiclass_auroc(preds, target, num_classes=5, average=\"macro\", thresholds=None)\n",
       "    tensor(0.5333)\n",
       "    >>> multiclass_auroc(preds, target, num_classes=5, average=None, thresholds=None)\n",
       "    tensor([1.0000, 1.0000, 0.3333, 0.3333, 0.0000])\n",
       "    >>> multiclass_auroc(preds, target, num_classes=5, average=\"macro\", thresholds=5)\n",
       "    tensor(0.5333)\n",
       "    >>> multiclass_auroc(preds, target, num_classes=5, average=None, thresholds=5)\n",
       "    tensor([1.0000, 1.0000, 0.3333, 0.3333, 0.0000])\n",
       "\u001b[0;31mFile:\u001b[0m      ~/deepschool-cvr-vit/venv/lib/python3.10/site-packages/torchmetrics/functional/classification/auroc.py\n",
       "\u001b[0;31mType:\u001b[0m      function"
      ]
     },
     "metadata": {},
     "output_type": "display_data"
    }
   ],
   "source": [
    "tm.functional.classification.multiclass_auroc?"
   ]
  },
  {
   "cell_type": "code",
   "execution_count": null,
   "id": "359bdbb8-67fe-4911-8a11-9c1b38f65327",
   "metadata": {},
   "outputs": [],
   "source": []
  }
 ],
 "metadata": {
  "kernelspec": {
   "display_name": "Python 3 (ipykernel)",
   "language": "python",
   "name": "python3"
  },
  "language_info": {
   "codemirror_mode": {
    "name": "ipython",
    "version": 3
   },
   "file_extension": ".py",
   "mimetype": "text/x-python",
   "name": "python",
   "nbconvert_exporter": "python",
   "pygments_lexer": "ipython3",
   "version": "3.10.6"
  }
 },
 "nbformat": 4,
 "nbformat_minor": 5
}
