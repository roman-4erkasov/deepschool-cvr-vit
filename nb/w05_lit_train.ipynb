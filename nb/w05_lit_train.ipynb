{
 "cells": [
  {
   "cell_type": "code",
   "execution_count": 1,
   "id": "b181ca8b-0a42-497e-b125-10f90b9322f7",
   "metadata": {},
   "outputs": [],
   "source": [
    "import sys\n",
    "sys.path.append(\"../src/\")\n",
    "\n",
    "from datamodule import DataModule\n",
    "from config import Config\n",
    "from litmodule import LitModel\n",
    "import lightning as lit\n",
    "# from clearml import Task\n"
   ]
  },
  {
   "cell_type": "code",
   "execution_count": 2,
   "id": "267a5ca6-c734-4673-865e-2c69ff3596d7",
   "metadata": {},
   "outputs": [
    {
     "name": "stdout",
     "output_type": "stream",
     "text": [
      "ClearML Task: created new task id=9fd6fa0738db4c81a4a83e8c0f84f7de\n",
      "2023-07-25 15:21:34,043 - clearml.Task - INFO - Storing jupyter notebook directly as code\n",
      "ClearML results page: https://app.clear.ml/projects/c77e98f4046f48318002aa63b7169ece/experiments/9fd6fa0738db4c81a4a83e8c0f84f7de/output/log\n",
      "ClearML Monitor: GPU monitoring failed getting GPU reading, switching off GPU monitoring\n"
     ]
    }
   ],
   "source": [
    "task = Task.init(\n",
    "    project_name=\"Custom ViT\", \n",
    "    task_name=\"Head Gear Classification (Test)\"\n",
    ")"
   ]
  },
  {
   "cell_type": "code",
   "execution_count": 3,
   "id": "3149ed50-e301-484e-8bbd-6271bb3a15bc",
   "metadata": {},
   "outputs": [],
   "source": [
    "cfg = Config.from_yaml(\"../config.yml\")\n",
    "data = DataModule(cfg.data_config)\n",
    "data.setup()\n"
   ]
  },
  {
   "cell_type": "code",
   "execution_count": 4,
   "id": "90c12243-5177-498a-865b-486370266499",
   "metadata": {},
   "outputs": [],
   "source": [
    "model = LitModel(cfg, task)"
   ]
  },
  {
   "cell_type": "code",
   "execution_count": 5,
   "id": "587e851d-609c-4866-8d09-67668e91aa78",
   "metadata": {
    "collapsed": true,
    "jupyter": {
     "outputs_hidden": true
    }
   },
   "outputs": [
    {
     "name": "stderr",
     "output_type": "stream",
     "text": [
      "GPU available: False, used: False\n",
      "TPU available: False, using: 0 TPU cores\n",
      "IPU available: False, using: 0 IPUs\n",
      "HPU available: False, using: 0 HPUs\n",
      "\n",
      "  | Name      | Type             | Params\n",
      "-----------------------------------------------\n",
      "0 | model     | ViT              | 85.8 M\n",
      "1 | loss_fn   | CrossEntropyLoss | 0     \n",
      "2 | train_auc | MulticlassAUROC  | 0     \n",
      "3 | val_auc   | MulticlassAUROC  | 0     \n",
      "4 | test_auc  | MulticlassAUROC  | 0     \n",
      "-----------------------------------------------\n",
      "85.8 M    Trainable params\n",
      "0         Non-trainable params\n",
      "85.8 M    Total params\n",
      "343.146   Total estimated model params size (MB)\n"
     ]
    },
    {
     "name": "stdout",
     "output_type": "stream",
     "text": [
      "Sanity Checking DataLoader 0:  50%|███████████████               | 1/2 [00:00<00:00,  2.44it/s]"
     ]
    },
    {
     "name": "stderr",
     "output_type": "stream",
     "text": [
      "/home/fatuus/deepschool-cvr-vit/venv/lib/python3.10/site-packages/torchmetrics/utilities/prints.py:42: UserWarning: No positive samples in targets, true positive value should be meaningless. Returning zero tensor in true positive score\n",
      "  warnings.warn(*args, **kwargs)  # noqa: B028\n"
     ]
    },
    {
     "name": "stdout",
     "output_type": "stream",
     "text": [
      "Epoch 0:  25%|████▋              | 113/453 [01:59<05:59,  1.06s/it, v_num=47, train_loss=2.990]\n",
      "Validation: 0it [00:00, ?it/s]\u001b[A\n",
      "Validation:   0%|                                                       | 0/13 [00:00<?, ?it/s]\u001b[A\n",
      "Validation DataLoader 0:   0%|                                          | 0/13 [00:00<?, ?it/s]\u001b[A\n",
      "Validation DataLoader 0:   8%|██▌                               | 1/13 [00:00<00:05,  2.13it/s]\u001b[A\n",
      "Validation DataLoader 0:  15%|█████▏                            | 2/13 [00:00<00:04,  2.57it/s]\u001b[A\n",
      "Validation DataLoader 0:  23%|███████▊                          | 3/13 [00:01<00:03,  2.86it/s]\u001b[A\n",
      "Validation DataLoader 0:  31%|██████████▍                       | 4/13 [00:01<00:02,  3.04it/s]\u001b[A\n",
      "Validation DataLoader 0:  38%|█████████████                     | 5/13 [00:01<00:02,  3.14it/s]\u001b[A\n",
      "Validation DataLoader 0:  46%|███████████████▋                  | 6/13 [00:01<00:02,  3.18it/s]\u001b[A\n",
      "Validation DataLoader 0:  54%|██████████████████▎               | 7/13 [00:02<00:01,  3.24it/s]\u001b[A\n",
      "Validation DataLoader 0:  62%|████████████████████▉             | 8/13 [00:02<00:01,  3.17it/s]\u001b[A\n",
      "Validation DataLoader 0:  69%|███████████████████████▌          | 9/13 [00:02<00:01,  3.21it/s]\u001b[A\n",
      "Validation DataLoader 0:  77%|█████████████████████████▍       | 10/13 [00:03<00:00,  3.18it/s]\u001b[A\n",
      "Validation DataLoader 0:  85%|███████████████████████████▉     | 11/13 [00:03<00:00,  3.23it/s]\u001b[A\n",
      "Validation DataLoader 0:  92%|██████████████████████████████▍  | 12/13 [00:03<00:00,  3.26it/s]\u001b[A\n",
      "Epoch 0:  25%|▏| 113/453 [02:04<06:15,  1.10s/it, v_num=47, train_loss=2.990, val_loss_step=3.2\u001b[A\n",
      "                                                                                               \u001b[A"
     ]
    },
    {
     "name": "stderr",
     "output_type": "stream",
     "text": [
      "/home/fatuus/deepschool-cvr-vit/venv/lib/python3.10/site-packages/torchmetrics/utilities/prints.py:42: UserWarning: No negative samples in targets, false positive value should be meaningless. Returning zero tensor in false positive score\n",
      "  warnings.warn(*args, **kwargs)  # noqa: B028\n"
     ]
    },
    {
     "name": "stdout",
     "output_type": "stream",
     "text": [
      "Epoch 0:  50%|▍| 226/453 [04:51<04:52,  1.29s/it, v_num=47, train_loss=3.390, val_loss_step=3.2\n",
      "Validation: 0it [00:00, ?it/s]\u001b[A\n",
      "Validation:   0%|                                                       | 0/13 [00:00<?, ?it/s]\u001b[A\n",
      "Validation DataLoader 0:   0%|                                          | 0/13 [00:00<?, ?it/s]\u001b[A\n",
      "Validation DataLoader 0:   8%|██▌                               | 1/13 [00:00<00:05,  2.13it/s]\u001b[A\n",
      "Validation DataLoader 0:  15%|█████▏                            | 2/13 [00:00<00:04,  2.68it/s]\u001b[A\n",
      "Validation DataLoader 0:  23%|███████▊                          | 3/13 [00:01<00:03,  2.63it/s]\u001b[A\n",
      "Validation DataLoader 0:  31%|██████████▍                       | 4/13 [00:01<00:03,  2.82it/s]\u001b[A\n",
      "Validation DataLoader 0:  38%|█████████████                     | 5/13 [00:01<00:02,  2.91it/s]\u001b[A\n",
      "Validation DataLoader 0:  46%|███████████████▋                  | 6/13 [00:02<00:02,  2.94it/s]\u001b[A\n",
      "Validation DataLoader 0:  54%|██████████████████▎               | 7/13 [00:02<00:02,  2.98it/s]\u001b[A\n",
      "Validation DataLoader 0:  62%|████████████████████▉             | 8/13 [00:02<00:01,  3.04it/s]\u001b[A\n",
      "Validation DataLoader 0:  69%|███████████████████████▌          | 9/13 [00:02<00:01,  3.08it/s]\u001b[A\n",
      "Validation DataLoader 0:  77%|█████████████████████████▍       | 10/13 [00:03<00:00,  3.13it/s]\u001b[A\n",
      "Validation DataLoader 0:  85%|███████████████████████████▉     | 11/13 [00:03<00:00,  3.16it/s]\u001b[A\n",
      "Validation DataLoader 0:  92%|██████████████████████████████▍  | 12/13 [00:03<00:00,  3.18it/s]\u001b[A\n",
      "Epoch 0:  50%|▍| 226/453 [04:57<04:58,  1.32s/it, v_num=47, train_loss=3.390, val_loss_step=2.9\u001b[A\n",
      "Epoch 0:  75%|▋| 339/453 [07:42<02:35,  1.36s/it, v_num=47, train_loss=3.480, val_loss_step=2.9\u001b[A\n",
      "Validation: 0it [00:00, ?it/s]\u001b[A\n",
      "Validation:   0%|                                                       | 0/13 [00:00<?, ?it/s]\u001b[A\n",
      "Validation DataLoader 0:   0%|                                          | 0/13 [00:00<?, ?it/s]\u001b[A\n",
      "Validation DataLoader 0:   8%|██▌                               | 1/13 [00:00<00:06,  1.98it/s]\u001b[A\n",
      "Validation DataLoader 0:  15%|█████▏                            | 2/13 [00:00<00:04,  2.45it/s]\u001b[A\n",
      "Validation DataLoader 0:  23%|███████▊                          | 3/13 [00:01<00:03,  2.71it/s]\u001b[A\n",
      "Validation DataLoader 0:  31%|██████████▍                       | 4/13 [00:01<00:03,  2.85it/s]\u001b[A\n",
      "Validation DataLoader 0:  38%|█████████████                     | 5/13 [00:01<00:02,  2.94it/s]\u001b[A\n",
      "Validation DataLoader 0:  46%|███████████████▋                  | 6/13 [00:02<00:02,  2.97it/s]\u001b[A\n",
      "Validation DataLoader 0:  54%|██████████████████▎               | 7/13 [00:02<00:01,  3.01it/s]\u001b[A\n",
      "Validation DataLoader 0:  62%|████████████████████▉             | 8/13 [00:02<00:01,  3.07it/s]\u001b[A\n",
      "Validation DataLoader 0:  69%|███████████████████████▌          | 9/13 [00:02<00:01,  3.08it/s]\u001b[A\n",
      "Validation DataLoader 0:  77%|█████████████████████████▍       | 10/13 [00:03<00:00,  3.11it/s]\u001b[A\n",
      "Validation DataLoader 0:  85%|███████████████████████████▉     | 11/13 [00:03<00:00,  3.14it/s]\u001b[A\n",
      "Validation DataLoader 0:  92%|██████████████████████████████▍  | 12/13 [00:03<00:00,  3.15it/s]\u001b[A\n",
      "Epoch 0:  75%|▋| 339/453 [07:48<02:37,  1.38s/it, v_num=47, train_loss=3.480, val_loss_step=4.1\u001b[A\n",
      "Epoch 0:  88%|▉| 398/453 [09:24<01:17,  1.42s/it, v_num=47, train_loss=3.710, val_loss_step=4.1\u001b[A"
     ]
    },
    {
     "name": "stderr",
     "output_type": "stream",
     "text": [
      "/home/fatuus/deepschool-cvr-vit/venv/lib/python3.10/site-packages/lightning/pytorch/trainer/call.py:52: UserWarning: Detected KeyboardInterrupt, attempting graceful shutdown...\n",
      "  rank_zero_warn(\"Detected KeyboardInterrupt, attempting graceful shutdown...\")\n"
     ]
    }
   ],
   "source": [
    "trainer = lit.Trainer(\n",
    "    # logger=True, \n",
    "    max_epochs=2,\n",
    "    log_every_n_steps=5,\n",
    "    # logger=lit.loggers.TensorBoardLogger(\"HeadGearClassification\", name=\"ViT\"),\n",
    "    val_check_interval=0.25,\n",
    "    # resume_from_checkpoint='./lightning_logs/version_33/checkpoints/epoch=2-step=342.ckpt'\n",
    ")\n",
    "trainer.fit(\n",
    "    model, data, \n",
    "    # ckpt_path='./lightning_logs/version_33/checkpoints/epoch=2-step=342.ckpt'\n",
    ")"
   ]
  },
  {
   "cell_type": "code",
   "execution_count": null,
   "id": "e775420e-928a-4cc6-b033-01b34befc351",
   "metadata": {},
   "outputs": [],
   "source": []
  },
  {
   "cell_type": "code",
   "execution_count": null,
   "id": "1f65b4f2-30ba-47a8-9fb6-b6adf957102c",
   "metadata": {},
   "outputs": [],
   "source": []
  },
  {
   "cell_type": "code",
   "execution_count": null,
   "id": "5c12163c-8058-4104-a64e-0e04fab12f55",
   "metadata": {},
   "outputs": [],
   "source": []
  },
  {
   "cell_type": "code",
   "execution_count": null,
   "id": "c0409013-3693-4cba-9997-157a4d626dca",
   "metadata": {},
   "outputs": [],
   "source": []
  },
  {
   "cell_type": "code",
   "execution_count": null,
   "id": "db50875c-87ac-46f7-997c-e50e19b83359",
   "metadata": {},
   "outputs": [],
   "source": []
  },
  {
   "cell_type": "code",
   "execution_count": null,
   "id": "ba971934-fc5c-48c6-abe4-d1fa0c3f361b",
   "metadata": {},
   "outputs": [],
   "source": []
  },
  {
   "cell_type": "code",
   "execution_count": null,
   "id": "644f935b-2467-4d8f-9d1b-827cfc495860",
   "metadata": {},
   "outputs": [],
   "source": [
    "for b in data.train_dataloader():\n",
    "    break"
   ]
  },
  {
   "cell_type": "code",
   "execution_count": null,
   "id": "048fd75a-d1fe-4c21-a217-46458de6251e",
   "metadata": {},
   "outputs": [],
   "source": [
    "images, labels = b"
   ]
  },
  {
   "cell_type": "code",
   "execution_count": null,
   "id": "fcf0c537-bd98-4cca-8d0b-34a9b09d1110",
   "metadata": {},
   "outputs": [],
   "source": [
    "idx = 0\n"
   ]
  },
  {
   "cell_type": "code",
   "execution_count": null,
   "id": "9925cf05-bb51-4ab2-b294-a243f372d206",
   "metadata": {},
   "outputs": [],
   "source": [
    "import torchvision as tv"
   ]
  },
  {
   "cell_type": "code",
   "execution_count": null,
   "id": "cf1ecdcf-003d-4879-91be-71cf3c5f5a7c",
   "metadata": {},
   "outputs": [],
   "source": [
    "to_pil = tv.transforms.ToPILImage()"
   ]
  },
  {
   "cell_type": "code",
   "execution_count": null,
   "id": "e82034c5-8cae-4dff-b2ff-767f14336f30",
   "metadata": {},
   "outputs": [],
   "source": [
    "to_pil(images[0])"
   ]
  },
  {
   "cell_type": "code",
   "execution_count": null,
   "id": "dba6e5d8-bb19-4816-a184-afa8ca67bba0",
   "metadata": {},
   "outputs": [],
   "source": [
    "it  = iter(data.val_dataloader())"
   ]
  },
  {
   "cell_type": "code",
   "execution_count": null,
   "id": "5a9cfe0c-5951-418f-ac6d-0e282d007a3d",
   "metadata": {},
   "outputs": [],
   "source": [
    "import random"
   ]
  },
  {
   "cell_type": "code",
   "execution_count": null,
   "id": "763c5b2f-d9c4-4404-b6bf-eb50efd504ca",
   "metadata": {},
   "outputs": [],
   "source": [
    "random.randint(0,3)"
   ]
  },
  {
   "cell_type": "code",
   "execution_count": null,
   "id": "e2ae9779-8b40-4816-b021-157a0e1edfca",
   "metadata": {},
   "outputs": [],
   "source": []
  },
  {
   "cell_type": "code",
   "execution_count": null,
   "id": "c4a79c3c-3660-4f25-8921-1bf076ca8219",
   "metadata": {},
   "outputs": [],
   "source": [
    "for b in data.val_dataloader():\n",
    "    pass"
   ]
  },
  {
   "cell_type": "code",
   "execution_count": null,
   "id": "4c2e14d3-e7d1-4d7f-9ec9-c8bc79b5ba46",
   "metadata": {},
   "outputs": [],
   "source": [
    "x,y = next(it)"
   ]
  },
  {
   "cell_type": "code",
   "execution_count": null,
   "id": "c6d9744b-e747-4a3f-9b30-c9cb48e315f4",
   "metadata": {},
   "outputs": [],
   "source": [
    "y"
   ]
  },
  {
   "cell_type": "code",
   "execution_count": null,
   "id": "d14d31b1-15a8-4b9d-a480-5a4295f04c37",
   "metadata": {},
   "outputs": [],
   "source": [
    "model(x).argmax(axis=1)"
   ]
  },
  {
   "cell_type": "code",
   "execution_count": null,
   "id": "202ca4fe-1088-45fe-bf29-9adb7792f137",
   "metadata": {},
   "outputs": [],
   "source": []
  }
 ],
 "metadata": {
  "kernelspec": {
   "display_name": "Python 3 (ipykernel)",
   "language": "python",
   "name": "python3"
  },
  "language_info": {
   "codemirror_mode": {
    "name": "ipython",
    "version": 3
   },
   "file_extension": ".py",
   "mimetype": "text/x-python",
   "name": "python",
   "nbconvert_exporter": "python",
   "pygments_lexer": "ipython3",
   "version": "3.10.6"
  }
 },
 "nbformat": 4,
 "nbformat_minor": 5
}
