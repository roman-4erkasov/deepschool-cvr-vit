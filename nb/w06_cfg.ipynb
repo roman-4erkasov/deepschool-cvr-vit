{
 "cells": [
  {
   "cell_type": "code",
   "execution_count": 1,
   "id": "b84949c6-6dbb-48a4-b301-228e746eea4e",
   "metadata": {},
   "outputs": [],
   "source": [
    "import sys\n",
    "sys.path.append(\"../src/\")\n",
    "\n",
    "from config import Config"
   ]
  },
  {
   "cell_type": "code",
   "execution_count": 2,
   "id": "6e278d2b-73f2-485a-b0ec-d6e72c62888b",
   "metadata": {},
   "outputs": [],
   "source": [
    "cfg = Config.from_yaml(\"../config.yml\")"
   ]
  },
  {
   "cell_type": "code",
   "execution_count": 3,
   "id": "81f3ee43-0781-442d-838a-96dd5b82ca4e",
   "metadata": {},
   "outputs": [
    {
     "data": {
      "text/plain": [
       "Config(n_classes=20, lr=0.001, data_config=DataConfig(data_path='/home/fatuus/data/headgear-image-classification/'))"
      ]
     },
     "execution_count": 3,
     "metadata": {},
     "output_type": "execute_result"
    }
   ],
   "source": [
    "cfg"
   ]
  },
  {
   "cell_type": "code",
   "execution_count": 1,
   "id": "0882a9ce-9d9b-4496-bab1-98b25c1499e7",
   "metadata": {},
   "outputs": [
    {
     "ename": "NameError",
     "evalue": "name 'image' is not defined",
     "output_type": "error",
     "traceback": [
      "\u001b[0;31m---------------------------------------------------------------------------\u001b[0m",
      "\u001b[0;31mNameError\u001b[0m                                 Traceback (most recent call last)",
      "Cell \u001b[0;32mIn[1], line 1\u001b[0m\n\u001b[0;32m----> 1\u001b[0m \u001b[43mimage\u001b[49m\n",
      "\u001b[0;31mNameError\u001b[0m: name 'image' is not defined"
     ]
    }
   ],
   "source": [
    "image"
   ]
  },
  {
   "cell_type": "code",
   "execution_count": null,
   "id": "4777f8c0-1e1a-4a2e-b2e2-736a2fc081a3",
   "metadata": {},
   "outputs": [],
   "source": []
  },
  {
   "cell_type": "code",
   "execution_count": null,
   "id": "11f1a44c-a4b6-4d23-853b-b344aec3effb",
   "metadata": {},
   "outputs": [],
   "source": []
  },
  {
   "cell_type": "code",
   "execution_count": null,
   "id": "86927be6-3269-4b1b-ad97-e5eb6b99708e",
   "metadata": {},
   "outputs": [],
   "source": []
  },
  {
   "cell_type": "code",
   "execution_count": null,
   "id": "6b1b8fef-7678-4e64-a7af-146c41f82125",
   "metadata": {},
   "outputs": [],
   "source": [
    "from omegaconf import OmegaConf"
   ]
  },
  {
   "cell_type": "code",
   "execution_count": null,
   "id": "ed0d6df1-7949-47d8-9107-20de592ecb80",
   "metadata": {},
   "outputs": [],
   "source": [
    "cfg = OmegaConf.load(\"../config.yml\")"
   ]
  },
  {
   "cell_type": "code",
   "execution_count": null,
   "id": "f99c77ae-8600-48d5-ad2d-d783f8fb5665",
   "metadata": {},
   "outputs": [],
   "source": [
    "OmegaConf.merge(cfg, OmegaConf.from_cli())"
   ]
  },
  {
   "cell_type": "code",
   "execution_count": null,
   "id": "bdfd32ae-9fec-487d-ae00-f269508fe32e",
   "metadata": {},
   "outputs": [],
   "source": [
    "OmegaConf.from_cli()"
   ]
  },
  {
   "cell_type": "code",
   "execution_count": null,
   "id": "84b9faec-1fe5-4808-8449-3aee62acfedf",
   "metadata": {},
   "outputs": [],
   "source": []
  }
 ],
 "metadata": {
  "kernelspec": {
   "display_name": "Python 3 (ipykernel)",
   "language": "python",
   "name": "python3"
  },
  "language_info": {
   "codemirror_mode": {
    "name": "ipython",
    "version": 3
   },
   "file_extension": ".py",
   "mimetype": "text/x-python",
   "name": "python",
   "nbconvert_exporter": "python",
   "pygments_lexer": "ipython3",
   "version": "3.10.6"
  }
 },
 "nbformat": 4,
 "nbformat_minor": 5
}
